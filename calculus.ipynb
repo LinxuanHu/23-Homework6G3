# import necessary libraries
import numpy as np
import matplotlib.pyplot as plt
from calculus import trapezoid_rule, adaptive_trapezoid_rule, simpsons_rule

# define the functions to be integrated
def exp_func(x):
    return np.exp(-1/x)

def cos_func(x):
    return np.cos(1/x)

def poly_func(x):
    return x**3 + 1/3

# define boundaries
boundaries = {
    'exp': [0, 30],
    'cos': [0, 3 * np.pi],
    'poly': [-1, 1]
}

# calculate and compare integrals
for func_name, bounds in boundaries.items():
    a, b = bounds
    true_integral = None  # fill in the true integral values if known
    
    # Use the algorithms to calculate the integrals
    trapezoid_result = trapezoid_rule(eval(func_name + '_func'), a, b, 1000)
    adaptive_trapezoid_result = adaptive_trapezoid_rule(eval(func_name + '_func'), a, b, 1e-8)
    simpsons_result = simpsons_rule(eval(func_name + '_func'), a, b, 1000)
    
    # Print results
    print(f"Function: {func_name}")
    print(f"True Integral: {true_integral}")
    print(f"Trapezoid Rule: {trapezoid_result}")
    print(f"Adaptive Trapezoid Rule: {adaptive_trapezoid_result}")
    print(f"Simpson's Rule: {simpsons_result}")
    print()
    
    # Plot the function and its integral
    x_vals = np.linspace(a, b, 1000)
    y_vals = eval(func_name + '_func')(x_vals)
    
    plt.figure(figsize=(10, 6))
    plt.plot(x_vals, y_vals, label=f'{func_name}(x)')
    plt.fill_between(x_vals, 0, y_vals, alpha=0.2)
    plt.title(f'Function and Integral: {func_name}')
    plt.xlabel('x')
    plt.ylabel('y')
    plt.legend()
    plt.show()
