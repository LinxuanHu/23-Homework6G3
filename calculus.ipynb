{
 "cells": [
  {
   "cell_type": "code",
   "execution_count": null,
   "id": "f0031a6c",
   "metadata": {},
   "outputs": [],
   "source": [
    "# import necessary libraries\n",
    "import numpy as np\n",
    "import matplotlib.pyplot as plt\n",
    "from calculus import trapezoid_rule, adaptive_trapezoid_rule, simpsons_rule\n",
    "\n",
    "# define the functions to be integrated\n",
    "def exp_func(x):\n",
    "    return np.exp(-1/x)\n",
    "\n",
    "def cos_func(x):\n",
    "    return np.cos(1/x)\n",
    "\n",
    "def poly_func(x):\n",
    "    return x**3 + 1/3\n",
    "\n",
    "# define boundaries\n",
    "boundaries = {\n",
    "    'exp': [0, 30],\n",
    "    'cos': [0, 3 * np.pi],\n",
    "    'poly': [-1, 1]\n",
    "}\n",
    "\n",
    "# calculate and compare integrals\n",
    "for func_name, bounds in boundaries.items():\n",
    "    a, b = bounds\n",
    "    true_integral = None  # fill in the true integral values if known\n",
    "    \n",
    "    # Use the algorithms to calculate the integrals\n",
    "    trapezoid_result = trapezoid_rule(eval(func_name + '_func'), a, b, 1000)\n",
    "    adaptive_trapezoid_result = adaptive_trapezoid_rule(eval(func_name + '_func'), a, b, 1e-8)\n",
    "    simpsons_result = simpsons_rule(eval(func_name + '_func'), a, b, 1000)\n",
    "    \n",
    "    # Print results\n",
    "    print(f\"Function: {func_name}\")\n",
    "    print(f\"True Integral: {true_integral}\")\n",
    "    print(f\"Trapezoid Rule: {trapezoid_result}\")\n",
    "    print(f\"Adaptive Trapezoid Rule: {adaptive_trapezoid_result}\")\n",
    "    print(f\"Simpson's Rule: {simpsons_result}\")\n",
    "    print()\n",
    "    \n",
    "    # Plot the function and its integral\n",
    "    x_vals = np.linspace(a, b, 1000)\n",
    "    y_vals = eval(func_name + '_func')(x_vals)\n",
    "    \n",
    "    plt.figure(figsize=(10, 6))\n",
    "    plt.plot(x_vals, y_vals, label=f'{func_name}(x)')\n",
    "    plt.fill_between(x_vals, 0, y_vals, alpha=0.2)\n",
    "    plt.title(f'Function and Integral: {func_name}')\n",
    "    plt.xlabel('x')\n",
    "    plt.ylabel('y')\n",
    "    plt.legend()\n",
    "    plt.show()\n"
   ]
  }
 ],
 "metadata": {
  "kernelspec": {
   "display_name": "Python 3 (ipykernel)",
   "language": "python",
   "name": "python3"
  },
  "language_info": {
   "codemirror_mode": {
    "name": "ipython",
    "version": 3
   },
   "file_extension": ".py",
   "mimetype": "text/x-python",
   "name": "python",
   "nbconvert_exporter": "python",
   "pygments_lexer": "ipython3",
   "version": "3.9.13"
  }
 },
 "nbformat": 4,
 "nbformat_minor": 5
}
